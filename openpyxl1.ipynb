{
 "cells": [
  {
   "cell_type": "code",
   "execution_count": 3,
   "metadata": {},
   "outputs": [
    {
     "data": {
      "text/plain": [
       "openpyxl.workbook.workbook.Workbook"
      ]
     },
     "execution_count": 3,
     "metadata": {},
     "output_type": "execute_result"
    }
   ],
   "source": [
    "from openpyxl import Workbook\n",
    "from openpyxl import load_workbook\n",
    "wb = load_workbook('example.xlsx')\n",
    "type(wb)"
   ]
  },
  {
   "cell_type": "code",
   "execution_count": 49,
   "metadata": {},
   "outputs": [
    {
     "name": "stdout",
     "output_type": "stream",
     "text": [
      "42\n",
      "85\n",
      "14\n",
      "52\n"
     ]
    }
   ],
   "source": [
    "from openpyxl import Workbook\n",
    "from openpyxl import load_workbook\n",
    "import openpyxl\n",
    "\n",
    "wb = load_workbook('example.xlsx')\n",
    "wb.sheetnames # 替代 wb.get_sheet_name()\n",
    "sheet = wb['Sheet1'] # 替代 wb.get_sheet_by_name()\n",
    "type(sheet)\n",
    "sheet['A1'].value\n",
    "sheet['B1'].value\n",
    "sheet['C1'].value\n",
    "sheet['C1'].value = 42\n",
    "wb.save('example2.xlsx')\n",
    "sheet.title\n",
    "sheet.title = 'My Sheet Name'\n",
    "wb.save('example3.xlsx')\n",
    "sheet['C1'].value\n",
    "sheet.cell(row=1, column=3).value\n",
    "for i in range(1, 5):\n",
    "    print(sheet.cell(row=i, column=3).value)\n",
    "\n",
    "sheet.max_row\n",
    "sheet.max_column\n",
    "\n",
    "from openpyxl.utils import get_column_letter,column_index_from_string\n",
    "get_column_letter(1)\n",
    "column_index_from_string('AA')\n",
    "\n",
    "wb.create_sheet(title='My Sheet Name', index=0)\n",
    "wb.save('example4.xlsx')\n",
    "\n",
    "sheet.row_dimensions[1].height\n",
    "sheet.row_dimensions[1].height = 70\n",
    "sheet.column_dimensions['B'].height = 20\n",
    "wb.save('example5.xlsx')\n",
    "\n",
    "\n",
    "wb = load_workbook('example.xlsx')\n",
    "wb.sheetnames\n",
    "sheet = wb['Sheet1']\n",
    "type(sheet)\n",
    "\n",
    "from openpyxl.styles import Font\n",
    "\n",
    "sheet['B1'].font = Font(sz=14, bold=True, italic=True)\n",
    "wb.save('example6.xlsx')"
   ]
  },
  {
   "cell_type": "code",
   "execution_count": 57,
   "metadata": {},
   "outputs": [],
   "source": [
    "from openpyxl import Workbook\n",
    "\n",
    "wb = Workbook()\n",
    "sheet = wb.create_sheet('My Sheet')\n",
    "\n",
    "import random\n",
    "\n",
    "for i in range(1, 11):\n",
    "    sheet['A' + str(i)].value = random.randint(1, 100)\n",
    "\n",
    "wb.save('example7.xlsx')"
   ]
  },
  {
   "cell_type": "code",
   "execution_count": null,
   "metadata": {},
   "outputs": [],
   "source": []
  }
 ],
 "metadata": {
  "kernelspec": {
   "display_name": "Python 3",
   "language": "python",
   "name": "python3"
  },
  "language_info": {
   "codemirror_mode": {
    "name": "ipython",
    "version": 3
   },
   "file_extension": ".py",
   "mimetype": "text/x-python",
   "name": "python",
   "nbconvert_exporter": "python",
   "pygments_lexer": "ipython3",
   "version": "3.7.3"
  }
 },
 "nbformat": 4,
 "nbformat_minor": 2
}
