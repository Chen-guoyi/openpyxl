{
 "cells": [
  {
   "cell_type": "markdown",
   "metadata": {},
   "source": [
    "# Python 编程快速上手——让繁琐工作自动化"
   ]
  },
  {
   "cell_type": "markdown",
   "metadata": {},
   "source": [
    " **本书学习的记录。因版本的变动，对书中代码作了修改**"
   ]
  },
  {
   "cell_type": "markdown",
   "metadata": {},
   "source": [
    "## 第 12 章 处理 Excel 电子表格"
   ]
  },
  {
   "cell_type": "code",
   "execution_count": 68,
   "metadata": {},
   "outputs": [
    {
     "data": {
      "text/plain": [
       "openpyxl.workbook.workbook.Workbook"
      ]
     },
     "execution_count": 68,
     "metadata": {},
     "output_type": "execute_result"
    }
   ],
   "source": [
    "# 打开已有文档的方法\n",
    "# openpyxl.load_workbook 模块打开 Excel 文档\n",
    "from openpyxl import load_workbook\n",
    "\n",
    "wb = load_workbook('E:\\Jupyter\\openpyxl\\example.xlsx')\n",
    "type(wb)"
   ]
  },
  {
   "cell_type": "code",
   "execution_count": 18,
   "metadata": {},
   "outputs": [
    {
     "name": "stdout",
     "output_type": "stream",
     "text": [
      "['Sheet1', 'Sheet2', 'Sheet3']\n",
      "<Worksheet \"Sheet3\">\n",
      "<class 'openpyxl.worksheet.worksheet.Worksheet'>\n",
      "Sheet3\n"
     ]
    },
    {
     "data": {
      "text/plain": [
       "<Worksheet \"Sheet1\">"
      ]
     },
     "execution_count": 18,
     "metadata": {},
     "output_type": "execute_result"
    }
   ],
   "source": [
    "from openpyxl import load_workbook\n",
    "\n",
    "wb = load_workbook('E:\\Jupyter\\openpyxl\\example.xlsx')\n",
    "\n",
    "# wb.sheetnames 属性获得工作簿中所有表名的列表\n",
    "# 旧版本 wb.get_sheet_names() 被替换为 wb.sheetnames\n",
    "c = wb.sheetnames  \n",
    "print(c)\n",
    "\n",
    "# wb[sheetname] 可获得工作表\n",
    "# wb.get_sheet_by_name('Sheet3') 被替换\n",
    "sheet = wb['Sheet3']  \n",
    "print(sheet)\n",
    "print(type(sheet))\n",
    "\n",
    "d = sheet.title  # .title 属性获得工作表表名\n",
    "print(d)\n",
    "\n",
    "# wb.active 属性获得工作簿的活动表\n",
    "# wb.get_active_sheet() 被替换\n",
    "anotherSheet = wb.active\n",
    "anotherSheet"
   ]
  },
  {
   "cell_type": "code",
   "execution_count": 67,
   "metadata": {},
   "outputs": [
    {
     "name": "stdout",
     "output_type": "stream",
     "text": [
      "<Cell 'Sheet1'.A1>\n",
      "2015-04-05 13:34:02\n",
      "Apples\n",
      "Row 1, Column B is Apples\n",
      "Cell B1 is Apples\n",
      "<Cell 'Sheet1'.B1>\n",
      "Apples\n",
      "1 Apples\n",
      "3 Pears\n",
      "5 Apples\n",
      "7 Strawberries\n"
     ]
    },
    {
     "data": {
      "text/plain": [
       "3"
      ]
     },
     "execution_count": 67,
     "metadata": {},
     "output_type": "execute_result"
    }
   ],
   "source": [
    "from openpyxl import load_workbook\n",
    "\n",
    "wb = load_workbook('E:\\Jupyter\\openpyxl\\example.xlsx')\n",
    "sheet = wb['Sheet1']\n",
    "cell_name1 = sheet['A1']\n",
    "print(cell_name1)\n",
    "\n",
    "cell_value1 = sheet['A1'].value  # sheet[sheetname].value 获得单元格中保存的值\n",
    "print(cell_value1)\n",
    "\n",
    "# openpyxl 2.6.2 中：\n",
    "# cell.coordinate 属性获得单元格的位置信息\n",
    "# cell.row 属性获得行数，是一个整数\n",
    "# cell.column 属性获得列数，是整数而不是字母，如要求获得字母，需要导入 get_column_letter 模块\n",
    "\n",
    "from openpyxl.utils import get_column_letter\n",
    "\n",
    "c = sheet['B1']\n",
    "cell_value2 = c.value  \n",
    "print(cell_value2)\n",
    "\n",
    "# 以下测试发现 openpyxl 2.6.2 中，cell.column 属性获得的是整数而不是字母\n",
    "# d = c.column\n",
    "# print(d)\n",
    "# e = c.row\n",
    "# print(e)\n",
    "\n",
    "b = 'Row ' + str(c.row) + ', Column ' + get_column_letter(c.column) + ' is ' + c.value\n",
    "print(b)\n",
    "\n",
    "f = 'Cell ' + c.coordinate + ' is ' + c.value\n",
    "print(f)\n",
    "\n",
    "sheet['C1'].value\n",
    "\n",
    "# 调用 cell() 方法，传入关键字参数 row, column 可以获得单元格\n",
    "# column 值是整数，而不是字符串\n",
    "# 第一行/第一列的整数是 1，而不是 0\n",
    "t = sheet.cell(row=1, column=2)\n",
    "print(t)\n",
    "\n",
    "k = sheet.cell(row=1, column=2).value\n",
    "print(k)\n",
    "\n",
    "for i in range(1, 8, 2):\n",
    "    print(i, sheet.cell(row=i, column=2).value)\n",
    "\n",
    "\n",
    "# 确定表的大小\n",
    "# openpyxl 2.6.2 中 get_highest_row(), get_highest_column() \n",
    "# 已被 sheet.max_row, sheet.max_column 替换\n",
    "sheet = wb['Sheet1']\n",
    "sheet.max_row\n",
    "sheet.max_column\n"
   ]
  },
  {
   "cell_type": "markdown",
   "metadata": {},
   "source": [
    "### 列字母和数字之间的转换"
   ]
  },
  {
   "cell_type": "code",
   "execution_count": 76,
   "metadata": {},
   "outputs": [
    {
     "data": {
      "text/plain": [
       "900"
      ]
     },
     "execution_count": 76,
     "metadata": {},
     "output_type": "execute_result"
    }
   ],
   "source": [
    "from openpyxl.utils import get_column_letter, column_index_from_string\n",
    "# openpyxl.cell 被替换为 openpyxl.utils\n",
    "\n",
    "# 从数字转换为字母 get_column_letter() 函数\n",
    "get_column_letter(1)\n",
    "get_column_letter(2)\n",
    "get_column_letter(900)\n",
    "\n",
    "# 从字母转换为数字 column_index_from_string() 函数\n",
    "column_index_from_string('A')\n",
    "column_index_from_string('AHP')"
   ]
  },
  {
   "cell_type": "markdown",
   "metadata": {},
   "source": [
    "### 从表中取得行和列"
   ]
  },
  {
   "cell_type": "code",
   "execution_count": 78,
   "metadata": {},
   "outputs": [
    {
     "name": "stdout",
     "output_type": "stream",
     "text": [
      "A1 2015-04-05 13:34:02\n",
      "B1 Apples\n",
      "C1 73\n",
      "--- END OF ROW ---\n",
      "A2 2015-04-05 03:41:23\n",
      "B2 Cherries\n",
      "C2 85\n",
      "--- END OF ROW ---\n",
      "A3 2015-04-06 12:46:51\n",
      "B3 Pears\n",
      "C3 14\n",
      "--- END OF ROW ---\n"
     ]
    }
   ],
   "source": [
    "from openpyxl import load_workbook\n",
    "\n",
    "wb = load_workbook('E:\\Jupyter\\openpyxl\\example.xlsx')\n",
    "sheet = wb['Sheet1']\n",
    "tuple(sheet['A1':'C3'])\n",
    "\n",
    "for rowOfCellObjects in sheet['A1':'C3']:\n",
    "    for cellObj in rowOfCellObjects:\n",
    "        print(cellObj.coordinate, cellObj.value)\n",
    "    print('--- END OF ROW ---')\n"
   ]
  },
  {
   "cell_type": "code",
   "execution_count": 107,
   "metadata": {},
   "outputs": [
    {
     "name": "stdout",
     "output_type": "stream",
     "text": [
      "(<Cell 'Sheet1'.A1>, <Cell 'Sheet1'.A2>, <Cell 'Sheet1'.A3>, <Cell 'Sheet1'.A4>, <Cell 'Sheet1'.A5>, <Cell 'Sheet1'.A6>, <Cell 'Sheet1'.A7>)\n",
      "(<Cell 'Sheet1'.B1>, <Cell 'Sheet1'.B2>, <Cell 'Sheet1'.B3>, <Cell 'Sheet1'.B4>, <Cell 'Sheet1'.B5>, <Cell 'Sheet1'.B6>, <Cell 'Sheet1'.B7>)\n",
      "(<Cell 'Sheet1'.C1>, <Cell 'Sheet1'.C2>, <Cell 'Sheet1'.C3>, <Cell 'Sheet1'.C4>, <Cell 'Sheet1'.C5>, <Cell 'Sheet1'.C6>, <Cell 'Sheet1'.C7>)\n",
      "(<Cell 'Sheet1'.B1>, <Cell 'Sheet1'.B2>, <Cell 'Sheet1'.B3>, <Cell 'Sheet1'.B4>, <Cell 'Sheet1'.B5>, <Cell 'Sheet1'.B6>, <Cell 'Sheet1'.B7>)\n",
      "Apples\n",
      "Cherries\n",
      "Pears\n",
      "Oranges\n",
      "Apples\n",
      "Bananas\n",
      "Strawberries\n"
     ]
    }
   ],
   "source": [
    "from openpyxl import load_workbook\n",
    "\n",
    "wb = load_workbook('E:\\Jupyter\\openpyxl\\example.xlsx')\n",
    "sheet = wb.active\n",
    "for each_column in sheet.columns:\n",
    "    print(each_column)\n",
    "\n",
    "# sheet.columns[1] 已经作出改变\n",
    "# 使用指明 列名 B\n",
    "# 或 list \n",
    "a = sheet['B']\n",
    "print(a)\n",
    "\n",
    "list(sheet.columns)[1]\n",
    "\n",
    "# 遍历 B 列 打印数值\n",
    "for cellObj in sheet['B']:\n",
    "    print(cellObj.value)"
   ]
  },
  {
   "cell_type": "markdown",
   "metadata": {},
   "source": [
    "### 工作簿、工作表、单元格"
   ]
  },
  {
   "cell_type": "code",
   "execution_count": 117,
   "metadata": {},
   "outputs": [
    {
     "name": "stdout",
     "output_type": "stream",
     "text": [
      "Reading rows...\n",
      "Writing results...\n",
      "Done.\n"
     ]
    }
   ],
   "source": [
    "from openpyxl import load_workbook\n",
    "import pprint\n",
    "\n",
    "wb = load_workbook('E:\\Jupyter\\openpyxl\\censuspopdata.xlsx')\n",
    "sheet = wb['Population by Census Tract']\n",
    "countyData = {}\n",
    "\n",
    "print('Reading rows...')\n",
    "for row in range(2, sheet.max_row + 1):\n",
    "    state = sheet['B' + str(row)].value\n",
    "    county = sheet['C' + str(row)].value\n",
    "    pop = sheet['D' + str(row)].value\n",
    "    \n",
    "    countyData.setdefault(state, {})\n",
    "    countyData[state].setdefault(county, {'tracts': 0, 'pop': 0})\n",
    "    countyData[state][county]['tracts'] += 1\n",
    "    countyData[state][county]['pop'] += int(pop)\n",
    "\n",
    "print('Writing results...')\n",
    "resultFile = open('census2010.py', 'w')\n",
    "resultFile.write('allData = ' + pprint.pformat(countyData))\n",
    "resultFile.close()\n",
    "print('Done.')"
   ]
  },
  {
   "cell_type": "code",
   "execution_count": 120,
   "metadata": {},
   "outputs": [
    {
     "name": "stdout",
     "output_type": "stream",
     "text": [
      "{'pop': 291826, 'tracts': 55}\n",
      "The 2010 population of Anchorage was 291826\n"
     ]
    }
   ],
   "source": [
    "import census2010\n",
    "d = census2010.allData['AK']['Anchorage']\n",
    "print(d)\n",
    "anchoragePop = census2010.allData['AK']['Anchorage']['pop']\n",
    "print('The 2010 population of Anchorage was ' + str(anchoragePop))"
   ]
  },
  {
   "cell_type": "markdown",
   "metadata": {},
   "source": [
    "### 写入 Excel 文档"
   ]
  },
  {
   "cell_type": "markdown",
   "metadata": {},
   "source": [
    "#### 创建并保存 Excel 文档"
   ]
  },
  {
   "cell_type": "code",
   "execution_count": 8,
   "metadata": {},
   "outputs": [
    {
     "data": {
      "text/plain": [
       "['Spam Bacon Eggs Sheet']"
      ]
     },
     "execution_count": 8,
     "metadata": {},
     "output_type": "execute_result"
    }
   ],
   "source": [
    "from openpyxl import Workbook\n",
    "\n",
    "wb = Workbook()\n",
    "wb.sheetnames\n",
    "sheet = wb.active\n",
    "sheet.title\n",
    "sheet.title = 'Spam Bacon Eggs Sheet'\n",
    "wb.sheetnames"
   ]
  },
  {
   "cell_type": "code",
   "execution_count": 4,
   "metadata": {},
   "outputs": [],
   "source": [
    "from openpyxl import load_workbook\n",
    "\n",
    "wb = load_workbook('example.xlsx')\n",
    "sheet.title = 'Spam Spam Spam'\n",
    "wb.save('example_copy.xlsx')\n"
   ]
  },
  {
   "cell_type": "markdown",
   "metadata": {},
   "source": [
    "#### 创建和删除工作表"
   ]
  },
  {
   "cell_type": "code",
   "execution_count": 40,
   "metadata": {},
   "outputs": [
    {
     "data": {
      "text/plain": [
       "'Hello world!'"
      ]
     },
     "execution_count": 40,
     "metadata": {},
     "output_type": "execute_result"
    }
   ],
   "source": [
    "from openpyxl import Workbook\n",
    "\n",
    "wb = Workbook()\n",
    "wb.sheetnames\n",
    "wb.create_sheet()  # 在工作簿中添加 工作表\n",
    "wb.sheetnames\n",
    "wb.create_sheet(index=0, title='First Sheet')\n",
    "wb.sheetnames\n",
    "wb.create_sheet(index=2, title='Middle Sheet')\n",
    "wb.sheetnames\n",
    "\n",
    "# wb.remove('Sheet')\n",
    "del wb['Middle Sheet']  # 删除工作簿中指定的工作表\n",
    "wb.sheetnames\n",
    "wb.remove(wb['Sheet1'])  # 删除工作簿中指定的工作表\n",
    "wb.sheetnames\n",
    "\n",
    "wb.create_sheet(index=0, title='Sheet2')\n",
    "wb.sheetnames\n",
    "sheet = wb['Sheet']\n",
    "wb.remove(sheet)\n",
    "wb.sheetnames\n",
    "\n",
    "# 将值写入单元格\n",
    "from openpyxl import Workbook\n",
    "wb = Workbook()\n",
    "wb.sheetnames\n",
    "sheet = wb['Sheet']\n",
    "sheet['A1'] = 'Hello world!'\n",
    "sheet['A1'].value\n"
   ]
  },
  {
   "cell_type": "code",
   "execution_count": 8,
   "metadata": {},
   "outputs": [
    {
     "name": "stdout",
     "output_type": "stream",
     "text": [
      "Done\n"
     ]
    }
   ],
   "source": [
    "# 更新一个电子表格\n",
    "\n",
    "from openpyxl import load_workbook\n",
    "\n",
    "wb = load_workbook('produceSales.xlsx')\n",
    "sheet = wb['Sheet']\n",
    "\n",
    "# 我第一个想到的方案是，遍历表格，使用 if/elif 结构\n",
    "# 字典的强大，可以不修改程序语句，利用字典的数据结构功能，存储更新数据，键值匹配表格数据\n",
    "PRICE_UPDATES = {'Garlic': 3.07,\n",
    "                'Celery': 1.19,\n",
    "                'Lemon': 1.27}\n",
    "\n",
    "for rowNum in range(2, sheet.max_row + 1):\n",
    "    produceName = sheet.cell(row=rowNum, column=1).value\n",
    "    if produceName in PRICE_UPDATES:\n",
    "        sheet.cell(row=rowNum, column=2).value = PRICE_UPDATES[produceName]\n",
    "    \n",
    "wb.save('produceSales_copy.xlsx')\n",
    "print('Done')\n"
   ]
  },
  {
   "cell_type": "markdown",
   "metadata": {},
   "source": [
    "### 设置单元格的字体风格"
   ]
  },
  {
   "cell_type": "code",
   "execution_count": 30,
   "metadata": {},
   "outputs": [],
   "source": [
    "from openpyxl import Workbook\n",
    "# __init__.py 显示 ‘from .named_styles import NamedStyle’，\n",
    "# openpyxl.styles 只能导入 NamedStyle\n",
    "from openpyxl.styles import Font\n",
    "\n",
    "wb = Workbook()\n",
    "sheet = wb['Sheet']\n",
    "\n",
    "italic24Font = Font(size=24, italic=True)\n",
    "sheet['A1'].font = italic24Font\n",
    "\n",
    "sheet['A1'] = 'Hello world!'\n",
    "wb.save('styled.xlsx')"
   ]
  },
  {
   "cell_type": "code",
   "execution_count": 31,
   "metadata": {},
   "outputs": [],
   "source": [
    "# Font 字体对象\n",
    "from openpyxl import Workbook\n",
    "from openpyxl.styles import Font\n",
    "\n",
    "wb = Workbook()\n",
    "sheet = wb['Sheet']\n",
    "\n",
    "fontObj1 = Font(name='Times New Roman', bold=True)\n",
    "sheet['A1'].font = fontObj1\n",
    "sheet['A1'] = 'Bold Times New Roman'\n",
    "\n",
    "fontObj2 = Font(size=24, italic=True)\n",
    "sheet['B3'].font = fontObj2\n",
    "sheet['B3'] = '24 pt Italic'\n",
    "\n",
    "wb.save('styles.xlsx')"
   ]
  },
  {
   "cell_type": "code",
   "execution_count": 33,
   "metadata": {},
   "outputs": [],
   "source": [
    "# 公式\n",
    "\n",
    "from openpyxl import Workbook\n",
    "\n",
    "wb =Workbook()\n",
    "sheet = wb.active\n",
    "\n",
    "sheet['A1'] = 200\n",
    "sheet['A2'] = 300\n",
    "sheet['A3'] = '=SUM(A1:A2)'\n",
    "\n",
    "wb.save('writeFormula.xlsx')"
   ]
  },
  {
   "cell_type": "code",
   "execution_count": null,
   "metadata": {},
   "outputs": [],
   "source": []
  }
 ],
 "metadata": {
  "kernelspec": {
   "display_name": "Python 3",
   "language": "python",
   "name": "python3"
  },
  "language_info": {
   "codemirror_mode": {
    "name": "ipython",
    "version": 3
   },
   "file_extension": ".py",
   "mimetype": "text/x-python",
   "name": "python",
   "nbconvert_exporter": "python",
   "pygments_lexer": "ipython3",
   "version": "3.7.3"
  }
 },
 "nbformat": 4,
 "nbformat_minor": 2
}
